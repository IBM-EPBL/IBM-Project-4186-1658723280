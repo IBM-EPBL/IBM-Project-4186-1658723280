{
  "cells": [
    {
      "metadata": {
        "id": "a89525db"
      },
      "id": "a89525db",
      "cell_type": "markdown",
      "source": []
    },
    {
      "metadata": {
        "id": "eb302458"
      },
      "id": "eb302458",
      "cell_type": "code",
      "source": [
        "import pandas as pd \n",
        "import numpy as np\n",
        "import matplotlib.pyplot as plt\n",
        "import seaborn as sns\n",
        "import statsmodels.formula.api as smf"
      ],
      "execution_count": null,
      "outputs": []
    },
    {
      "metadata": {
        "id": "966d6a97"
      },
      "id": "966d6a97",
      "cell_type": "markdown",
      "source": [
        "# Importing Dataset"
      ]
    },
    {
      "metadata": {
        "id": "387f893e",
        "outputId": "3d9136d2-2155-401f-ba8c-ed6bea5d6ba5"
      },
      "id": "387f893e",
      "cell_type": "code",
      "source": [
        "\n",
        "import os, types\n",
        "import pandas as pd\n",
        "from botocore.client import Config\n",
        "import ibm_boto3\n",
        "\n",
        "def __iter__(self): return 0\n",
        "\n",
        "# @hidden_cell\n",
        "# The following code accesses a file in your IBM Cloud Object Storage. It includes your credentials.\n",
        "# You might want to remove those credentials before you share the notebook.\n",
        "cos_client = ibm_boto3.client(service_name='s3',\n",
        "    ibm_api_key_id='rZU37akB7V0FzI_8dLJOwQTVUOArVuSLsI6Tem7xIPQW',\n",
        "    ibm_auth_endpoint=\"https://iam.cloud.ibm.com/oidc/token\",\n",
        "    config=Config(signature_version='oauth'),\n",
        "    endpoint_url='https://s3.private.us.cloud-object-storage.appdomain.cloud')\n",
        "\n",
        "bucket = 'mlprojectdeployment-donotdelete-pr-rc2axqos7hwqmu'\n",
        "object_key = 'car performance.csv'\n",
        "\n",
        "body = cos_client.get_object(Bucket=bucket,Key=object_key)['Body']\n",
        "# add missing __iter__ method, so pandas accepts body as file-like object\n",
        "if not hasattr(body, \"__iter__\"): body.__iter__ = types.MethodType( __iter__, body )\n",
        "\n",
        "dataset = pd.read_csv(body)\n",
        "dataset.head()\n",
        "# Importing Libraries"
      ],
      "execution_count": null,
      "outputs": [
        {
          "output_type": "execute_result",
          "execution_count": 8,
          "data": {
            "text/plain": "    mpg  cylinders  displacement horsepower  weight  acceleration  model year  \\\n0  18.0          8         307.0        130    3504          12.0          70   \n1  15.0          8         350.0        165    3693          11.5          70   \n2  18.0          8         318.0        150    3436          11.0          70   \n3  16.0          8         304.0        150    3433          12.0          70   \n4  17.0          8         302.0        140    3449          10.5          70   \n\n   origin                   car name  \n0       1  chevrolet chevelle malibu  \n1       1          buick skylark 320  \n2       1         plymouth satellite  \n3       1              amc rebel sst  \n4       1                ford torino  ",
            "text/html": "<div>\n<style scoped>\n    .dataframe tbody tr th:only-of-type {\n        vertical-align: middle;\n    }\n\n    .dataframe tbody tr th {\n        vertical-align: top;\n    }\n\n    .dataframe thead th {\n        text-align: right;\n    }\n</style>\n<table border=\"1\" class=\"dataframe\">\n  <thead>\n    <tr style=\"text-align: right;\">\n      <th></th>\n      <th>mpg</th>\n      <th>cylinders</th>\n      <th>displacement</th>\n      <th>horsepower</th>\n      <th>weight</th>\n      <th>acceleration</th>\n      <th>model year</th>\n      <th>origin</th>\n      <th>car name</th>\n    </tr>\n  </thead>\n  <tbody>\n    <tr>\n      <th>0</th>\n      <td>18.0</td>\n      <td>8</td>\n      <td>307.0</td>\n      <td>130</td>\n      <td>3504</td>\n      <td>12.0</td>\n      <td>70</td>\n      <td>1</td>\n      <td>chevrolet chevelle malibu</td>\n    </tr>\n    <tr>\n      <th>1</th>\n      <td>15.0</td>\n      <td>8</td>\n      <td>350.0</td>\n      <td>165</td>\n      <td>3693</td>\n      <td>11.5</td>\n      <td>70</td>\n      <td>1</td>\n      <td>buick skylark 320</td>\n    </tr>\n    <tr>\n      <th>2</th>\n      <td>18.0</td>\n      <td>8</td>\n      <td>318.0</td>\n      <td>150</td>\n      <td>3436</td>\n      <td>11.0</td>\n      <td>70</td>\n      <td>1</td>\n      <td>plymouth satellite</td>\n    </tr>\n    <tr>\n      <th>3</th>\n      <td>16.0</td>\n      <td>8</td>\n      <td>304.0</td>\n      <td>150</td>\n      <td>3433</td>\n      <td>12.0</td>\n      <td>70</td>\n      <td>1</td>\n      <td>amc rebel sst</td>\n    </tr>\n    <tr>\n      <th>4</th>\n      <td>17.0</td>\n      <td>8</td>\n      <td>302.0</td>\n      <td>140</td>\n      <td>3449</td>\n      <td>10.5</td>\n      <td>70</td>\n      <td>1</td>\n      <td>ford torino</td>\n    </tr>\n  </tbody>\n</table>\n</div>"
          },
          "metadata": {}
        }
      ]
    },
    {
      "metadata": {
        "id": "bb6e3bff",
        "outputId": "64472151-1bb6-4650-f2f8-3fa25235e31f"
      },
      "id": "bb6e3bff",
      "cell_type": "code",
      "source": [
        "type(dataset)"
      ],
      "execution_count": null,
      "outputs": [
        {
          "output_type": "execute_result",
          "execution_count": 9,
          "data": {
            "text/plain": "pandas.core.frame.DataFrame"
          },
          "metadata": {}
        }
      ]
    },
    {
      "metadata": {
        "id": "553014b7"
      },
      "id": "553014b7",
      "cell_type": "markdown",
      "source": [
        "# Finding missing data\n"
      ]
    },
    {
      "metadata": {
        "id": "4565da66",
        "outputId": "21ddea1a-676a-43ed-bedb-666aec2d5c2f"
      },
      "id": "4565da66",
      "cell_type": "code",
      "source": [
        "dataset.isnull().any()"
      ],
      "execution_count": null,
      "outputs": [
        {
          "output_type": "execute_result",
          "execution_count": 10,
          "data": {
            "text/plain": "mpg             False\ncylinders       False\ndisplacement    False\nhorsepower      False\nweight          False\nacceleration    False\nmodel year      False\norigin          False\ncar name        False\ndtype: bool"
          },
          "metadata": {}
        }
      ]
    },
    {
      "metadata": {
        "id": "6b6a0044"
      },
      "id": "6b6a0044",
      "cell_type": "code",
      "source": [
        "dataset['horsepower']=dataset['horsepower'].replace('?',np.nan)\n"
      ],
      "execution_count": null,
      "outputs": []
    },
    {
      "metadata": {
        "id": "43e2eccf",
        "outputId": "61ed5c4c-4fad-4b8a-caf0-056f22bce13c"
      },
      "id": "43e2eccf",
      "cell_type": "code",
      "source": [
        "dataset['horsepower'].isnull().sum()"
      ],
      "execution_count": null,
      "outputs": [
        {
          "output_type": "execute_result",
          "execution_count": 16,
          "data": {
            "text/plain": "6"
          },
          "metadata": {}
        }
      ]
    },
    {
      "metadata": {
        "id": "ad11b738"
      },
      "id": "ad11b738",
      "cell_type": "code",
      "source": [
        "dataset['horsepower']=dataset['horsepower'].astype('float64')"
      ],
      "execution_count": null,
      "outputs": []
    },
    {
      "metadata": {
        "id": "fbf3d4a1"
      },
      "id": "fbf3d4a1",
      "cell_type": "code",
      "source": [
        "dataset['horsepower'].fillna((dataset['horsepower'].mean()),inplace=True)"
      ],
      "execution_count": null,
      "outputs": []
    },
    {
      "metadata": {
        "id": "78e37b0f",
        "outputId": "88be5f17-5837-470b-d9ad-ab4b1ae63d9b"
      },
      "id": "78e37b0f",
      "cell_type": "code",
      "source": [
        "dataset.isnull().any()"
      ],
      "execution_count": null,
      "outputs": [
        {
          "output_type": "execute_result",
          "execution_count": 19,
          "data": {
            "text/plain": "mpg             False\ncylinders       False\ndisplacement    False\nhorsepower      False\nweight          False\nacceleration    False\nmodel year      False\norigin          False\ncar name        False\ndtype: bool"
          },
          "metadata": {}
        }
      ]
    },
    {
      "metadata": {
        "id": "550e25e9",
        "outputId": "962b41f6-45e4-44e7-bb4a-10d60c2129c3"
      },
      "id": "550e25e9",
      "cell_type": "code",
      "source": [
        "dataset.info() #Pandas dataframe.info() function is used to get a quick overview of the dataset.\n"
      ],
      "execution_count": null,
      "outputs": [
        {
          "output_type": "stream",
          "text": "<class 'pandas.core.frame.DataFrame'>\nRangeIndex: 398 entries, 0 to 397\nData columns (total 9 columns):\n #   Column        Non-Null Count  Dtype  \n---  ------        --------------  -----  \n 0   mpg           398 non-null    float64\n 1   cylinders     398 non-null    int64  \n 2   displacement  398 non-null    float64\n 3   horsepower    398 non-null    float64\n 4   weight        398 non-null    int64  \n 5   acceleration  398 non-null    float64\n 6   model year    398 non-null    int64  \n 7   origin        398 non-null    int64  \n 8   car name      398 non-null    object \ndtypes: float64(4), int64(4), object(1)\nmemory usage: 28.1+ KB\n",
          "name": "stdout"
        }
      ]
    },
    {
      "metadata": {
        "id": "cc42a923",
        "outputId": "5e03c0cd-3c7b-410e-bcae-70674ec69589"
      },
      "id": "cc42a923",
      "cell_type": "code",
      "source": [
        "dataset.describe() #Pandas describe() is used to view some basic statistical details of a data frame or a series of numeric values."
      ],
      "execution_count": null,
      "outputs": [
        {
          "output_type": "execute_result",
          "execution_count": 21,
          "data": {
            "text/plain": "              mpg   cylinders  displacement  horsepower       weight  \\\ncount  398.000000  398.000000    398.000000  398.000000   398.000000   \nmean    23.514573    5.454774    193.425879  104.469388  2970.424623   \nstd      7.815984    1.701004    104.269838   38.199187   846.841774   \nmin      9.000000    3.000000     68.000000   46.000000  1613.000000   \n25%     17.500000    4.000000    104.250000   76.000000  2223.750000   \n50%     23.000000    4.000000    148.500000   95.000000  2803.500000   \n75%     29.000000    8.000000    262.000000  125.000000  3608.000000   \nmax     46.600000    8.000000    455.000000  230.000000  5140.000000   \n\n       acceleration  model year      origin  \ncount    398.000000  398.000000  398.000000  \nmean      15.568090   76.010050    1.572864  \nstd        2.757689    3.697627    0.802055  \nmin        8.000000   70.000000    1.000000  \n25%       13.825000   73.000000    1.000000  \n50%       15.500000   76.000000    1.000000  \n75%       17.175000   79.000000    2.000000  \nmax       24.800000   82.000000    3.000000  ",
            "text/html": "<div>\n<style scoped>\n    .dataframe tbody tr th:only-of-type {\n        vertical-align: middle;\n    }\n\n    .dataframe tbody tr th {\n        vertical-align: top;\n    }\n\n    .dataframe thead th {\n        text-align: right;\n    }\n</style>\n<table border=\"1\" class=\"dataframe\">\n  <thead>\n    <tr style=\"text-align: right;\">\n      <th></th>\n      <th>mpg</th>\n      <th>cylinders</th>\n      <th>displacement</th>\n      <th>horsepower</th>\n      <th>weight</th>\n      <th>acceleration</th>\n      <th>model year</th>\n      <th>origin</th>\n    </tr>\n  </thead>\n  <tbody>\n    <tr>\n      <th>count</th>\n      <td>398.000000</td>\n      <td>398.000000</td>\n      <td>398.000000</td>\n      <td>398.000000</td>\n      <td>398.000000</td>\n      <td>398.000000</td>\n      <td>398.000000</td>\n      <td>398.000000</td>\n    </tr>\n    <tr>\n      <th>mean</th>\n      <td>23.514573</td>\n      <td>5.454774</td>\n      <td>193.425879</td>\n      <td>104.469388</td>\n      <td>2970.424623</td>\n      <td>15.568090</td>\n      <td>76.010050</td>\n      <td>1.572864</td>\n    </tr>\n    <tr>\n      <th>std</th>\n      <td>7.815984</td>\n      <td>1.701004</td>\n      <td>104.269838</td>\n      <td>38.199187</td>\n      <td>846.841774</td>\n      <td>2.757689</td>\n      <td>3.697627</td>\n      <td>0.802055</td>\n    </tr>\n    <tr>\n      <th>min</th>\n      <td>9.000000</td>\n      <td>3.000000</td>\n      <td>68.000000</td>\n      <td>46.000000</td>\n      <td>1613.000000</td>\n      <td>8.000000</td>\n      <td>70.000000</td>\n      <td>1.000000</td>\n    </tr>\n    <tr>\n      <th>25%</th>\n      <td>17.500000</td>\n      <td>4.000000</td>\n      <td>104.250000</td>\n      <td>76.000000</td>\n      <td>2223.750000</td>\n      <td>13.825000</td>\n      <td>73.000000</td>\n      <td>1.000000</td>\n    </tr>\n    <tr>\n      <th>50%</th>\n      <td>23.000000</td>\n      <td>4.000000</td>\n      <td>148.500000</td>\n      <td>95.000000</td>\n      <td>2803.500000</td>\n      <td>15.500000</td>\n      <td>76.000000</td>\n      <td>1.000000</td>\n    </tr>\n    <tr>\n      <th>75%</th>\n      <td>29.000000</td>\n      <td>8.000000</td>\n      <td>262.000000</td>\n      <td>125.000000</td>\n      <td>3608.000000</td>\n      <td>17.175000</td>\n      <td>79.000000</td>\n      <td>2.000000</td>\n    </tr>\n    <tr>\n      <th>max</th>\n      <td>46.600000</td>\n      <td>8.000000</td>\n      <td>455.000000</td>\n      <td>230.000000</td>\n      <td>5140.000000</td>\n      <td>24.800000</td>\n      <td>82.000000</td>\n      <td>3.000000</td>\n    </tr>\n  </tbody>\n</table>\n</div>"
          },
          "metadata": {}
        }
      ]
    },
    {
      "metadata": {
        "id": "41e79953"
      },
      "id": "41e79953",
      "cell_type": "code",
      "source": [
        "dataset=dataset.drop('car name',axis=1) #dropping the unwanted column."
      ],
      "execution_count": null,
      "outputs": []
    },
    {
      "metadata": {
        "id": "02a5a675",
        "outputId": "9eb3d05e-7280-4e73-daba-7f12bf0bdad0"
      },
      "id": "02a5a675",
      "cell_type": "code",
      "source": [
        "corr_table=dataset.corr()#Pandas dataframe.corr() is used to find the pairwise correlation of all columns in the dataframe. \n",
        "corr_table"
      ],
      "execution_count": null,
      "outputs": [
        {
          "output_type": "execute_result",
          "execution_count": 23,
          "data": {
            "text/plain": "                   mpg  cylinders  displacement  horsepower    weight  \\\nmpg           1.000000  -0.775396     -0.804203   -0.771437 -0.831741   \ncylinders    -0.775396   1.000000      0.950721    0.838939  0.896017   \ndisplacement -0.804203   0.950721      1.000000    0.893646  0.932824   \nhorsepower   -0.771437   0.838939      0.893646    1.000000  0.860574   \nweight       -0.831741   0.896017      0.932824    0.860574  1.000000   \nacceleration  0.420289  -0.505419     -0.543684   -0.684259 -0.417457   \nmodel year    0.579267  -0.348746     -0.370164   -0.411651 -0.306564   \norigin        0.563450  -0.562543     -0.609409   -0.453669 -0.581024   \n\n              acceleration  model year    origin  \nmpg               0.420289    0.579267  0.563450  \ncylinders        -0.505419   -0.348746 -0.562543  \ndisplacement     -0.543684   -0.370164 -0.609409  \nhorsepower       -0.684259   -0.411651 -0.453669  \nweight           -0.417457   -0.306564 -0.581024  \nacceleration      1.000000    0.288137  0.205873  \nmodel year        0.288137    1.000000  0.180662  \norigin            0.205873    0.180662  1.000000  ",
            "text/html": "<div>\n<style scoped>\n    .dataframe tbody tr th:only-of-type {\n        vertical-align: middle;\n    }\n\n    .dataframe tbody tr th {\n        vertical-align: top;\n    }\n\n    .dataframe thead th {\n        text-align: right;\n    }\n</style>\n<table border=\"1\" class=\"dataframe\">\n  <thead>\n    <tr style=\"text-align: right;\">\n      <th></th>\n      <th>mpg</th>\n      <th>cylinders</th>\n      <th>displacement</th>\n      <th>horsepower</th>\n      <th>weight</th>\n      <th>acceleration</th>\n      <th>model year</th>\n      <th>origin</th>\n    </tr>\n  </thead>\n  <tbody>\n    <tr>\n      <th>mpg</th>\n      <td>1.000000</td>\n      <td>-0.775396</td>\n      <td>-0.804203</td>\n      <td>-0.771437</td>\n      <td>-0.831741</td>\n      <td>0.420289</td>\n      <td>0.579267</td>\n      <td>0.563450</td>\n    </tr>\n    <tr>\n      <th>cylinders</th>\n      <td>-0.775396</td>\n      <td>1.000000</td>\n      <td>0.950721</td>\n      <td>0.838939</td>\n      <td>0.896017</td>\n      <td>-0.505419</td>\n      <td>-0.348746</td>\n      <td>-0.562543</td>\n    </tr>\n    <tr>\n      <th>displacement</th>\n      <td>-0.804203</td>\n      <td>0.950721</td>\n      <td>1.000000</td>\n      <td>0.893646</td>\n      <td>0.932824</td>\n      <td>-0.543684</td>\n      <td>-0.370164</td>\n      <td>-0.609409</td>\n    </tr>\n    <tr>\n      <th>horsepower</th>\n      <td>-0.771437</td>\n      <td>0.838939</td>\n      <td>0.893646</td>\n      <td>1.000000</td>\n      <td>0.860574</td>\n      <td>-0.684259</td>\n      <td>-0.411651</td>\n      <td>-0.453669</td>\n    </tr>\n    <tr>\n      <th>weight</th>\n      <td>-0.831741</td>\n      <td>0.896017</td>\n      <td>0.932824</td>\n      <td>0.860574</td>\n      <td>1.000000</td>\n      <td>-0.417457</td>\n      <td>-0.306564</td>\n      <td>-0.581024</td>\n    </tr>\n    <tr>\n      <th>acceleration</th>\n      <td>0.420289</td>\n      <td>-0.505419</td>\n      <td>-0.543684</td>\n      <td>-0.684259</td>\n      <td>-0.417457</td>\n      <td>1.000000</td>\n      <td>0.288137</td>\n      <td>0.205873</td>\n    </tr>\n    <tr>\n      <th>model year</th>\n      <td>0.579267</td>\n      <td>-0.348746</td>\n      <td>-0.370164</td>\n      <td>-0.411651</td>\n      <td>-0.306564</td>\n      <td>0.288137</td>\n      <td>1.000000</td>\n      <td>0.180662</td>\n    </tr>\n    <tr>\n      <th>origin</th>\n      <td>0.563450</td>\n      <td>-0.562543</td>\n      <td>-0.609409</td>\n      <td>-0.453669</td>\n      <td>-0.581024</td>\n      <td>0.205873</td>\n      <td>0.180662</td>\n      <td>1.000000</td>\n    </tr>\n  </tbody>\n</table>\n</div>"
          },
          "metadata": {}
        }
      ]
    },
    {
      "metadata": {
        "id": "f676d1e8"
      },
      "id": "f676d1e8",
      "cell_type": "markdown",
      "source": [
        "# Seperating into Dependent and Independent variables"
      ]
    },
    {
      "metadata": {
        "id": "488d4e0a"
      },
      "id": "488d4e0a",
      "cell_type": "markdown",
      "source": [
        "<b>Independent variables</b>"
      ]
    },
    {
      "metadata": {
        "id": "2a9d6322",
        "outputId": "13b69bd1-b06e-433d-8fdd-7f50a9b7ccf4"
      },
      "id": "2a9d6322",
      "cell_type": "code",
      "source": [
        "x=dataset[['cylinders','displacement','horsepower','weight','model year','origin']].values\n",
        "x"
      ],
      "execution_count": null,
      "outputs": [
        {
          "output_type": "execute_result",
          "execution_count": 24,
          "data": {
            "text/plain": "array([[8.000e+00, 3.070e+02, 1.300e+02, 3.504e+03, 7.000e+01, 1.000e+00],\n       [8.000e+00, 3.500e+02, 1.650e+02, 3.693e+03, 7.000e+01, 1.000e+00],\n       [8.000e+00, 3.180e+02, 1.500e+02, 3.436e+03, 7.000e+01, 1.000e+00],\n       ...,\n       [4.000e+00, 1.350e+02, 8.400e+01, 2.295e+03, 8.200e+01, 1.000e+00],\n       [4.000e+00, 1.200e+02, 7.900e+01, 2.625e+03, 8.200e+01, 1.000e+00],\n       [4.000e+00, 1.190e+02, 8.200e+01, 2.720e+03, 8.200e+01, 1.000e+00]])"
          },
          "metadata": {}
        }
      ]
    },
    {
      "metadata": {
        "id": "4c4be779"
      },
      "id": "4c4be779",
      "cell_type": "markdown",
      "source": [
        "<b>Dependent variables</b>"
      ]
    },
    {
      "metadata": {
        "id": "d60bb20f",
        "outputId": "f00ab56d-707e-459b-97a7-b530bf62eed2"
      },
      "id": "d60bb20f",
      "cell_type": "code",
      "source": [
        "y=dataset.iloc[:,0:1].values\n",
        "y"
      ],
      "execution_count": null,
      "outputs": [
        {
          "output_type": "execute_result",
          "execution_count": 25,
          "data": {
            "text/plain": "array([[18. ],\n       [15. ],\n       [18. ],\n       [16. ],\n       [17. ],\n       [15. ],\n       [14. ],\n       [14. ],\n       [14. ],\n       [15. ],\n       [15. ],\n       [14. ],\n       [15. ],\n       [14. ],\n       [24. ],\n       [22. ],\n       [18. ],\n       [21. ],\n       [27. ],\n       [26. ],\n       [25. ],\n       [24. ],\n       [25. ],\n       [26. ],\n       [21. ],\n       [10. ],\n       [10. ],\n       [11. ],\n       [ 9. ],\n       [27. ],\n       [28. ],\n       [25. ],\n       [25. ],\n       [19. ],\n       [16. ],\n       [17. ],\n       [19. ],\n       [18. ],\n       [14. ],\n       [14. ],\n       [14. ],\n       [14. ],\n       [12. ],\n       [13. ],\n       [13. ],\n       [18. ],\n       [22. ],\n       [19. ],\n       [18. ],\n       [23. ],\n       [28. ],\n       [30. ],\n       [30. ],\n       [31. ],\n       [35. ],\n       [27. ],\n       [26. ],\n       [24. ],\n       [25. ],\n       [23. ],\n       [20. ],\n       [21. ],\n       [13. ],\n       [14. ],\n       [15. ],\n       [14. ],\n       [17. ],\n       [11. ],\n       [13. ],\n       [12. ],\n       [13. ],\n       [19. ],\n       [15. ],\n       [13. ],\n       [13. ],\n       [14. ],\n       [18. ],\n       [22. ],\n       [21. ],\n       [26. ],\n       [22. ],\n       [28. ],\n       [23. ],\n       [28. ],\n       [27. ],\n       [13. ],\n       [14. ],\n       [13. ],\n       [14. ],\n       [15. ],\n       [12. ],\n       [13. ],\n       [13. ],\n       [14. ],\n       [13. ],\n       [12. ],\n       [13. ],\n       [18. ],\n       [16. ],\n       [18. ],\n       [18. ],\n       [23. ],\n       [26. ],\n       [11. ],\n       [12. ],\n       [13. ],\n       [12. ],\n       [18. ],\n       [20. ],\n       [21. ],\n       [22. ],\n       [18. ],\n       [19. ],\n       [21. ],\n       [26. ],\n       [15. ],\n       [16. ],\n       [29. ],\n       [24. ],\n       [20. ],\n       [19. ],\n       [15. ],\n       [24. ],\n       [20. ],\n       [11. ],\n       [20. ],\n       [21. ],\n       [19. ],\n       [15. ],\n       [31. ],\n       [26. ],\n       [32. ],\n       [25. ],\n       [16. ],\n       [16. ],\n       [18. ],\n       [16. ],\n       [13. ],\n       [14. ],\n       [14. ],\n       [14. ],\n       [29. ],\n       [26. ],\n       [26. ],\n       [31. ],\n       [32. ],\n       [28. ],\n       [24. ],\n       [26. ],\n       [24. ],\n       [26. ],\n       [31. ],\n       [19. ],\n       [18. ],\n       [15. ],\n       [15. ],\n       [16. ],\n       [15. ],\n       [16. ],\n       [14. ],\n       [17. ],\n       [16. ],\n       [15. ],\n       [18. ],\n       [21. ],\n       [20. ],\n       [13. ],\n       [29. ],\n       [23. ],\n       [20. ],\n       [23. ],\n       [24. ],\n       [25. ],\n       [24. ],\n       [18. ],\n       [29. ],\n       [19. ],\n       [23. ],\n       [23. ],\n       [22. ],\n       [25. ],\n       [33. ],\n       [28. ],\n       [25. ],\n       [25. ],\n       [26. ],\n       [27. ],\n       [17.5],\n       [16. ],\n       [15.5],\n       [14.5],\n       [22. ],\n       [22. ],\n       [24. ],\n       [22.5],\n       [29. ],\n       [24.5],\n       [29. ],\n       [33. ],\n       [20. ],\n       [18. ],\n       [18.5],\n       [17.5],\n       [29.5],\n       [32. ],\n       [28. ],\n       [26.5],\n       [20. ],\n       [13. ],\n       [19. ],\n       [19. ],\n       [16.5],\n       [16.5],\n       [13. ],\n       [13. ],\n       [13. ],\n       [31.5],\n       [30. ],\n       [36. ],\n       [25.5],\n       [33.5],\n       [17.5],\n       [17. ],\n       [15.5],\n       [15. ],\n       [17.5],\n       [20.5],\n       [19. ],\n       [18.5],\n       [16. ],\n       [15.5],\n       [15.5],\n       [16. ],\n       [29. ],\n       [24.5],\n       [26. ],\n       [25.5],\n       [30.5],\n       [33.5],\n       [30. ],\n       [30.5],\n       [22. ],\n       [21.5],\n       [21.5],\n       [43.1],\n       [36.1],\n       [32.8],\n       [39.4],\n       [36.1],\n       [19.9],\n       [19.4],\n       [20.2],\n       [19.2],\n       [20.5],\n       [20.2],\n       [25.1],\n       [20.5],\n       [19.4],\n       [20.6],\n       [20.8],\n       [18.6],\n       [18.1],\n       [19.2],\n       [17.7],\n       [18.1],\n       [17.5],\n       [30. ],\n       [27.5],\n       [27.2],\n       [30.9],\n       [21.1],\n       [23.2],\n       [23.8],\n       [23.9],\n       [20.3],\n       [17. ],\n       [21.6],\n       [16.2],\n       [31.5],\n       [29.5],\n       [21.5],\n       [19.8],\n       [22.3],\n       [20.2],\n       [20.6],\n       [17. ],\n       [17.6],\n       [16.5],\n       [18.2],\n       [16.9],\n       [15.5],\n       [19.2],\n       [18.5],\n       [31.9],\n       [34.1],\n       [35.7],\n       [27.4],\n       [25.4],\n       [23. ],\n       [27.2],\n       [23.9],\n       [34.2],\n       [34.5],\n       [31.8],\n       [37.3],\n       [28.4],\n       [28.8],\n       [26.8],\n       [33.5],\n       [41.5],\n       [38.1],\n       [32.1],\n       [37.2],\n       [28. ],\n       [26.4],\n       [24.3],\n       [19.1],\n       [34.3],\n       [29.8],\n       [31.3],\n       [37. ],\n       [32.2],\n       [46.6],\n       [27.9],\n       [40.8],\n       [44.3],\n       [43.4],\n       [36.4],\n       [30. ],\n       [44.6],\n       [40.9],\n       [33.8],\n       [29.8],\n       [32.7],\n       [23.7],\n       [35. ],\n       [23.6],\n       [32.4],\n       [27.2],\n       [26.6],\n       [25.8],\n       [23.5],\n       [30. ],\n       [39.1],\n       [39. ],\n       [35.1],\n       [32.3],\n       [37. ],\n       [37.7],\n       [34.1],\n       [34.7],\n       [34.4],\n       [29.9],\n       [33. ],\n       [34.5],\n       [33.7],\n       [32.4],\n       [32.9],\n       [31.6],\n       [28.1],\n       [30.7],\n       [25.4],\n       [24.2],\n       [22.4],\n       [26.6],\n       [20.2],\n       [17.6],\n       [28. ],\n       [27. ],\n       [34. ],\n       [31. ],\n       [29. ],\n       [27. ],\n       [24. ],\n       [23. ],\n       [36. ],\n       [37. ],\n       [31. ],\n       [38. ],\n       [36. ],\n       [36. ],\n       [36. ],\n       [34. ],\n       [38. ],\n       [32. ],\n       [38. ],\n       [25. ],\n       [38. ],\n       [26. ],\n       [22. ],\n       [32. ],\n       [36. ],\n       [27. ],\n       [27. ],\n       [44. ],\n       [32. ],\n       [28. ],\n       [31. ]])"
          },
          "metadata": {}
        }
      ]
    },
    {
      "metadata": {
        "id": "cc9bb0a3"
      },
      "id": "cc9bb0a3",
      "cell_type": "markdown",
      "source": [
        "# Splitting into train and test data."
      ]
    },
    {
      "metadata": {
        "id": "d6b48868"
      },
      "id": "d6b48868",
      "cell_type": "code",
      "source": [
        "from sklearn.model_selection import train_test_split"
      ],
      "execution_count": null,
      "outputs": []
    },
    {
      "metadata": {
        "id": "f0ff6540"
      },
      "id": "f0ff6540",
      "cell_type": "code",
      "source": [
        "x_train,x_test,y_train,y_test=train_test_split(x,y,test_size=0.1,random_state=0)"
      ],
      "execution_count": null,
      "outputs": []
    },
    {
      "metadata": {
        "id": "5d64b019"
      },
      "id": "5d64b019",
      "cell_type": "markdown",
      "source": [
        "we are splitting as 90% train data and 10% test data"
      ]
    },
    {
      "metadata": {
        "id": "c6ce66c6"
      },
      "id": "c6ce66c6",
      "cell_type": "markdown",
      "source": [
        "# decision tree regressor\n"
      ]
    },
    {
      "metadata": {
        "id": "5d5c4d02",
        "outputId": "f477b06e-254d-43b2-f235-8954d8748c11"
      },
      "id": "5d5c4d02",
      "cell_type": "code",
      "source": [
        "from sklearn.tree import DecisionTreeRegressor\n",
        "dt=DecisionTreeRegressor(random_state=0,criterion=\"absolute_error\")\n",
        "dt.fit(x_train,y_train)"
      ],
      "execution_count": null,
      "outputs": [
        {
          "output_type": "execute_result",
          "execution_count": 28,
          "data": {
            "text/plain": "DecisionTreeRegressor(criterion='absolute_error', random_state=0)"
          },
          "metadata": {}
        }
      ]
    },
    {
      "metadata": {
        "id": "bd23803b",
        "outputId": "fc256975-0b61-44ff-ab9f-1439baa454d2"
      },
      "id": "bd23803b",
      "cell_type": "code",
      "source": [
        "y_pred=dt.predict(x_test)\n",
        "y_pred"
      ],
      "execution_count": null,
      "outputs": [
        {
          "output_type": "execute_result",
          "execution_count": 29,
          "data": {
            "text/plain": "array([14. , 26.5, 14. , 19. , 18. , 31. , 37. , 22. , 15. , 26.8, 34.5,\n       31.8, 16. , 26. , 15.5, 34.3, 26.6, 27. , 16. , 31.5, 16. , 23. ,\n       27.5, 19. , 33.8, 24.2, 36.1, 36. , 34.3, 18.5, 19.2, 35. , 15. ,\n       32. , 22. , 23. , 19.4, 16. , 31.5, 12. ])"
          },
          "metadata": {}
        }
      ]
    },
    {
      "metadata": {
        "id": "7ab8d2f4",
        "outputId": "19e9dd6d-22de-42cc-a7dd-42a844a3a82f"
      },
      "id": "7ab8d2f4",
      "cell_type": "code",
      "source": [
        "y_test"
      ],
      "execution_count": null,
      "outputs": [
        {
          "output_type": "execute_result",
          "execution_count": 30,
          "data": {
            "text/plain": "array([[14. ],\n       [25. ],\n       [13. ],\n       [21. ],\n       [18. ],\n       [35. ],\n       [34.1],\n       [20. ],\n       [15. ],\n       [23.5],\n       [40.9],\n       [37.2],\n       [18. ],\n       [23. ],\n       [15.5],\n       [35.7],\n       [31. ],\n       [27. ],\n       [18. ],\n       [37.3],\n       [15.5],\n       [23. ],\n       [24. ],\n       [18. ],\n       [34.5],\n       [25.4],\n       [36.1],\n       [34. ],\n       [30. ],\n       [16. ],\n       [18.6],\n       [37. ],\n       [15. ],\n       [33.5],\n       [22.4],\n       [24. ],\n       [19. ],\n       [16.9],\n       [31.9],\n       [12. ]])"
          },
          "metadata": {}
        }
      ]
    },
    {
      "metadata": {
        "id": "8ef53bc4"
      },
      "id": "8ef53bc4",
      "cell_type": "code",
      "source": [
        "from sklearn.metrics import r2_score,mean_squared_error"
      ],
      "execution_count": null,
      "outputs": []
    },
    {
      "metadata": {
        "id": "2e21dc76",
        "outputId": "ebe82a31-2e4c-4c15-e099-81c8e427efc7"
      },
      "id": "2e21dc76",
      "cell_type": "code",
      "source": [
        "r2_score(y_test,y_pred)"
      ],
      "execution_count": null,
      "outputs": [
        {
          "output_type": "execute_result",
          "execution_count": 32,
          "data": {
            "text/plain": "0.912578781275149"
          },
          "metadata": {}
        }
      ]
    },
    {
      "metadata": {
        "id": "577dda05",
        "outputId": "e0a0f3af-fce7-466e-c444-2a3907c6d268"
      },
      "id": "577dda05",
      "cell_type": "code",
      "source": [
        "mean_squared_error(y_test,y_pred)"
      ],
      "execution_count": null,
      "outputs": [
        {
          "output_type": "execute_result",
          "execution_count": 33,
          "data": {
            "text/plain": "6.042499999999999"
          },
          "metadata": {}
        }
      ]
    },
    {
      "metadata": {
        "id": "fd2df0dd",
        "outputId": "2877ea97-1e00-485c-876f-b647c5309a99"
      },
      "id": "fd2df0dd",
      "cell_type": "code",
      "source": [
        "np.sqrt(mean_squared_error(y_test,y_pred))"
      ],
      "execution_count": null,
      "outputs": [
        {
          "output_type": "execute_result",
          "execution_count": 34,
          "data": {
            "text/plain": "2.458149710656371"
          },
          "metadata": {}
        }
      ]
    },
    {
      "metadata": {
        "id": "887dbd40",
        "outputId": "c0066b16-c006-4a7e-e3a0-6d500ed13351"
      },
      "id": "887dbd40",
      "cell_type": "code",
      "source": [
        "!pip install ibm_watson_machine_learning"
      ],
      "execution_count": null,
      "outputs": [
        {
          "output_type": "stream",
          "text": "Requirement already satisfied: ibm_watson_machine_learning in /opt/conda/envs/Python-3.9/lib/python3.9/site-packages (1.0.257)\nRequirement already satisfied: certifi in /opt/conda/envs/Python-3.9/lib/python3.9/site-packages (from ibm_watson_machine_learning) (2022.9.24)\nRequirement already satisfied: requests in /opt/conda/envs/Python-3.9/lib/python3.9/site-packages (from ibm_watson_machine_learning) (2.26.0)\nRequirement already satisfied: tabulate in /opt/conda/envs/Python-3.9/lib/python3.9/site-packages (from ibm_watson_machine_learning) (0.8.9)\nRequirement already satisfied: urllib3 in /opt/conda/envs/Python-3.9/lib/python3.9/site-packages (from ibm_watson_machine_learning) (1.26.7)\nRequirement already satisfied: importlib-metadata in /opt/conda/envs/Python-3.9/lib/python3.9/site-packages (from ibm_watson_machine_learning) (4.8.2)\nRequirement already satisfied: pandas<1.5.0,>=0.24.2 in /opt/conda/envs/Python-3.9/lib/python3.9/site-packages (from ibm_watson_machine_learning) (1.3.4)\nRequirement already satisfied: packaging in /opt/conda/envs/Python-3.9/lib/python3.9/site-packages (from ibm_watson_machine_learning) (21.3)\nRequirement already satisfied: ibm-cos-sdk==2.11.* in /opt/conda/envs/Python-3.9/lib/python3.9/site-packages (from ibm_watson_machine_learning) (2.11.0)\nRequirement already satisfied: lomond in /opt/conda/envs/Python-3.9/lib/python3.9/site-packages (from ibm_watson_machine_learning) (0.3.3)\nRequirement already satisfied: ibm-cos-sdk-core==2.11.0 in /opt/conda/envs/Python-3.9/lib/python3.9/site-packages (from ibm-cos-sdk==2.11.*->ibm_watson_machine_learning) (2.11.0)\nRequirement already satisfied: jmespath<1.0.0,>=0.7.1 in /opt/conda/envs/Python-3.9/lib/python3.9/site-packages (from ibm-cos-sdk==2.11.*->ibm_watson_machine_learning) (0.10.0)\nRequirement already satisfied: ibm-cos-sdk-s3transfer==2.11.0 in /opt/conda/envs/Python-3.9/lib/python3.9/site-packages (from ibm-cos-sdk==2.11.*->ibm_watson_machine_learning) (2.11.0)\nRequirement already satisfied: python-dateutil<3.0.0,>=2.1 in /opt/conda/envs/Python-3.9/lib/python3.9/site-packages (from ibm-cos-sdk-core==2.11.0->ibm-cos-sdk==2.11.*->ibm_watson_machine_learning) (2.8.2)\nRequirement already satisfied: pytz>=2017.3 in /opt/conda/envs/Python-3.9/lib/python3.9/site-packages (from pandas<1.5.0,>=0.24.2->ibm_watson_machine_learning) (2021.3)\nRequirement already satisfied: numpy>=1.17.3 in /opt/conda/envs/Python-3.9/lib/python3.9/site-packages (from pandas<1.5.0,>=0.24.2->ibm_watson_machine_learning) (1.20.3)\nRequirement already satisfied: six>=1.5 in /opt/conda/envs/Python-3.9/lib/python3.9/site-packages (from python-dateutil<3.0.0,>=2.1->ibm-cos-sdk-core==2.11.0->ibm-cos-sdk==2.11.*->ibm_watson_machine_learning) (1.15.0)\nRequirement already satisfied: charset-normalizer~=2.0.0 in /opt/conda/envs/Python-3.9/lib/python3.9/site-packages (from requests->ibm_watson_machine_learning) (2.0.4)\nRequirement already satisfied: idna<4,>=2.5 in /opt/conda/envs/Python-3.9/lib/python3.9/site-packages (from requests->ibm_watson_machine_learning) (3.3)\nRequirement already satisfied: zipp>=0.5 in /opt/conda/envs/Python-3.9/lib/python3.9/site-packages (from importlib-metadata->ibm_watson_machine_learning) (3.6.0)\nRequirement already satisfied: pyparsing!=3.0.5,>=2.0.2 in /opt/conda/envs/Python-3.9/lib/python3.9/site-packages (from packaging->ibm_watson_machine_learning) (3.0.4)\n",
          "name": "stdout"
        }
      ]
    },
    {
      "metadata": {
        "id": "c6288748"
      },
      "id": "c6288748",
      "cell_type": "code",
      "source": [
        "from ibm_watson_machine_learning import APIClient\n",
        "wml_credentials={\n",
        "    \"url\":\"https://us-south.ml.cloud.ibm.com\",\n",
        "    \"apikey\":\"vrRTRoUfZtNiDow3UtMXzdbcplUJWLy0NAh7osrM6S2U\"\n",
        "}\n",
        "client=APIClient(wml_credentials)"
      ],
      "execution_count": null,
      "outputs": []
    },
    {
      "metadata": {
        "id": "091f980b"
      },
      "id": "091f980b",
      "cell_type": "code",
      "source": [
        "def guid_from_space_name(client, space_name): \n",
        "    space = client.spaces.get_details()  \n",
        "    #print(space) \n",
        "    return(next(item for item in space['resources'] if item['entity'][\"name\"] == space_name)['metadata']['id'])"
      ],
      "execution_count": null,
      "outputs": []
    },
    {
      "metadata": {
        "id": "3a1537f9",
        "outputId": "dd304ea5-0789-469c-b7cb-135fbfafd66b"
      },
      "id": "3a1537f9",
      "cell_type": "code",
      "source": [
        "space_uid = guid_from_space_name(client, 'models') \n",
        "print(\"Space UID = \" + space_uid)"
      ],
      "execution_count": null,
      "outputs": [
        {
          "output_type": "stream",
          "text": "Space UID = aed8dd52-88fd-4fc1-b2da-74421f1dc05b\n",
          "name": "stdout"
        }
      ]
    },
    {
      "metadata": {
        "id": "298e6e7a",
        "outputId": "a071fe29-6d11-4e82-fce2-275d843e0259"
      },
      "cell_type": "code",
      "source": [
        "client.set.default_space(space_uid)"
      ],
      "execution_count": null,
      "outputs": [
        {
          "output_type": "execute_result",
          "execution_count": 43,
          "data": {
            "text/plain": "'SUCCESS'"
          },
          "metadata": {}
        }
      ],
      "id": "298e6e7a"
    },
    {
      "metadata": {
        "id": "01f4a67d",
        "outputId": "158c3cd6-f322-4fa5-e202-b0f36a500f3c"
      },
      "cell_type": "code",
      "source": [
        "client.software_specifications.list()"
      ],
      "execution_count": null,
      "outputs": [
        {
          "output_type": "stream",
          "text": "-----------------------------  ------------------------------------  ----\nNAME                           ASSET_ID                              TYPE\ndefault_py3.6                  0062b8c9-8b7d-44a0-a9b9-46c416adcbd9  base\nkernel-spark3.2-scala2.12      020d69ce-7ac1-5e68-ac1a-31189867356a  base\npytorch-onnx_1.3-py3.7-edt     069ea134-3346-5748-b513-49120e15d288  base\nscikit-learn_0.20-py3.6        09c5a1d0-9c1e-4473-a344-eb7b665ff687  base\nspark-mllib_3.0-scala_2.12     09f4cff0-90a7-5899-b9ed-1ef348aebdee  base\npytorch-onnx_rt22.1-py3.9      0b848dd4-e681-5599-be41-b5f6fccc6471  base\nai-function_0.1-py3.6          0cdb0f1e-5376-4f4d-92dd-da3b69aa9bda  base\nshiny-r3.6                     0e6e79df-875e-4f24-8ae9-62dcc2148306  base\ntensorflow_2.4-py3.7-horovod   1092590a-307d-563d-9b62-4eb7d64b3f22  base\npytorch_1.1-py3.6              10ac12d6-6b30-4ccd-8392-3e922c096a92  base\ntensorflow_1.15-py3.6-ddl      111e41b3-de2d-5422-a4d6-bf776828c4b7  base\nautoai-kb_rt22.2-py3.10        125b6d9a-5b1f-5e8d-972a-b251688ccf40  base\nruntime-22.1-py3.9             12b83a17-24d8-5082-900f-0ab31fbfd3cb  base\nscikit-learn_0.22-py3.6        154010fa-5b3b-4ac1-82af-4d5ee5abbc85  base\ndefault_r3.6                   1b70aec3-ab34-4b87-8aa0-a4a3c8296a36  base\npytorch-onnx_1.3-py3.6         1bc6029a-cc97-56da-b8e0-39c3880dbbe7  base\nkernel-spark3.3-r3.6           1c9e5454-f216-59dd-a20e-474a5cdf5988  base\npytorch-onnx_rt22.1-py3.9-edt  1d362186-7ad5-5b59-8b6c-9d0880bde37f  base\ntensorflow_2.1-py3.6           1eb25b84-d6ed-5dde-b6a5-3fbdf1665666  base\nspark-mllib_3.2                20047f72-0a98-58c7-9ff5-a77b012eb8f5  base\ntensorflow_2.4-py3.8-horovod   217c16f6-178f-56bf-824a-b19f20564c49  base\nruntime-22.1-py3.9-cuda        26215f05-08c3-5a41-a1b0-da66306ce658  base\ndo_py3.8                       295addb5-9ef9-547e-9bf4-92ae3563e720  base\nautoai-ts_3.8-py3.8            2aa0c932-798f-5ae9-abd6-15e0c2402fb5  base\ntensorflow_1.15-py3.6          2b73a275-7cbf-420b-a912-eae7f436e0bc  base\nkernel-spark3.3-py3.9          2b7961e2-e3b1-5a8c-a491-482c8368839a  base\npytorch_1.2-py3.6              2c8ef57d-2687-4b7d-acce-01f94976dac1  base\nspark-mllib_2.3                2e51f700-bca0-4b0d-88dc-5c6791338875  base\npytorch-onnx_1.1-py3.6-edt     32983cea-3f32-4400-8965-dde874a8d67e  base\nspark-mllib_3.0-py37           36507ebe-8770-55ba-ab2a-eafe787600e9  base\nspark-mllib_2.4                390d21f8-e58b-4fac-9c55-d7ceda621326  base\nautoai-ts_rt22.2-py3.10        396b2e83-0953-5b86-9a55-7ce1628a406f  base\nxgboost_0.82-py3.6             39e31acd-5f30-41dc-ae44-60233c80306e  base\npytorch-onnx_1.2-py3.6-edt     40589d0e-7019-4e28-8daa-fb03b6f4fe12  base\npytorch-onnx_rt22.2-py3.10     40e73f55-783a-5535-b3fa-0c8b94291431  base\ndefault_r36py38                41c247d3-45f8-5a71-b065-8580229facf0  base\nautoai-ts_rt22.1-py3.9         4269d26e-07ba-5d40-8f66-2d495b0c71f7  base\nautoai-obm_3.0                 42b92e18-d9ab-567f-988a-4240ba1ed5f7  base\npmml-3.0_4.3                   493bcb95-16f1-5bc5-bee8-81b8af80e9c7  base\nspark-mllib_2.4-r_3.6          49403dff-92e9-4c87-a3d7-a42d0021c095  base\nxgboost_0.90-py3.6             4ff8d6c2-1343-4c18-85e1-689c965304d3  base\npytorch-onnx_1.1-py3.6         50f95b2a-bc16-43bb-bc94-b0bed208c60b  base\nautoai-ts_3.9-py3.8            52c57136-80fa-572e-8728-a5e7cbb42cde  base\nspark-mllib_2.4-scala_2.11     55a70f99-7320-4be5-9fb9-9edb5a443af5  base\nspark-mllib_3.0                5c1b0ca2-4977-5c2e-9439-ffd44ea8ffe9  base\nautoai-obm_2.0                 5c2e37fa-80b8-5e77-840f-d912469614ee  base\nspss-modeler_18.1              5c3cad7e-507f-4b2a-a9a3-ab53a21dee8b  base\ncuda-py3.8                     5d3232bf-c86b-5df4-a2cd-7bb870a1cd4e  base\nruntime-22.2-py3.10-xc         5e8cddff-db4a-5a6a-b8aa-2d4af9864dab  base\nautoai-kb_3.1-py3.7            632d4b22-10aa-5180-88f0-f52dfb6444d7  base\n-----------------------------  ------------------------------------  ----\nNote: Only first 50 records were displayed. To display more use 'limit' parameter.\n",
          "name": "stdout"
        }
      ],
      "id": "01f4a67d"
    },
    {
      "metadata": {
        "id": "b665fde4",
        "outputId": "907274c1-b56b-46d7-a804-da0203e03f63"
      },
      "cell_type": "code",
      "source": [
        "software_spec_uid=client.software_specifications.get_uid_by_name(\"runtime-22.1-py3.9\")\n",
        "software_spec_uid"
      ],
      "execution_count": null,
      "outputs": [
        {
          "output_type": "execute_result",
          "execution_count": 89,
          "data": {
            "text/plain": "'12b83a17-24d8-5082-900f-0ab31fbfd3cb'"
          },
          "metadata": {}
        }
      ],
      "id": "b665fde4"
    },
    {
      "metadata": {
        "id": "0288c839"
      },
      "cell_type": "code",
      "source": [
        "MODEL_NAME=\"Car performance Predictor\"\n",
        "DEPLOYMENT_NAME=\"Model Deployment\"\n",
        "DEMO_MODEL=dt"
      ],
      "execution_count": null,
      "outputs": [],
      "id": "0288c839"
    },
    {
      "metadata": {
        "id": "b46b8fc3"
      },
      "cell_type": "code",
      "source": [
        "model_props={\n",
        "    client.repository.ModelMetaNames.NAME:MODEL_NAME,\n",
        "    client.repository.ModelMetaNames.TYPE:'scikit-learn_1.0',\n",
        "    client.repository.ModelMetaNames.SOFTWARE_SPEC_UID:software_spec_uid\n",
        "\n",
        "}"
      ],
      "execution_count": null,
      "outputs": [],
      "id": "b46b8fc3"
    },
    {
      "metadata": {
        "id": "c12028ef",
        "outputId": "ed42ee6d-6a60-467f-b32c-cdb91c5569ce"
      },
      "cell_type": "code",
      "source": [
        "model_details=client.repository.store_model(\n",
        "model=DEMO_MODEL,\n",
        "meta_props=model_props,\n",
        "training_data=x_train,\n",
        "training_target=y_train\n",
        ")\n",
        "model_id=client.repository.get_model_uid(model_details)"
      ],
      "execution_count": null,
      "outputs": [
        {
          "output_type": "stream",
          "text": "This method is deprecated, please use get_model_id()\n",
          "name": "stdout"
        }
      ],
      "id": "c12028ef"
    },
    {
      "metadata": {
        "id": "23c939e5",
        "outputId": "797bb8cc-5bc3-4edf-cc15-8559e163dd1c"
      },
      "cell_type": "code",
      "source": [
        "model_id"
      ],
      "execution_count": null,
      "outputs": [
        {
          "output_type": "execute_result",
          "execution_count": 95,
          "data": {
            "text/plain": "'de5c87a9-32c3-4f8c-b8f9-6c4689417869'"
          },
          "metadata": {}
        }
      ],
      "id": "23c939e5"
    },
    {
      "metadata": {
        "id": "4917d874",
        "outputId": "ec16f092-7d24-4522-93ed-bafe74dc8fec"
      },
      "cell_type": "code",
      "source": [
        "x_train[0]"
      ],
      "execution_count": null,
      "outputs": [
        {
          "output_type": "execute_result",
          "execution_count": 96,
          "data": {
            "text/plain": "array([8.000e+00, 4.540e+02, 2.200e+02, 4.354e+03, 7.000e+01, 1.000e+00])"
          },
          "metadata": {}
        }
      ],
      "id": "4917d874"
    },
    {
      "metadata": {
        "id": "87de0cbd",
        "outputId": "59398b1d-bb99-4c2b-b3c1-55fd8172f891"
      },
      "cell_type": "code",
      "source": [
        "dt.predict([[8.000e+00, 4.540e+02, 2.200e+02, 4.354e+03, 7.000e+01, 1.000e+00]])"
      ],
      "execution_count": null,
      "outputs": [
        {
          "output_type": "execute_result",
          "execution_count": 97,
          "data": {
            "text/plain": "array([14.])"
          },
          "metadata": {}
        }
      ],
      "id": "87de0cbd"
    },
    {
      "metadata": {
        "id": "9ec59c28"
      },
      "cell_type": "code",
      "source": [],
      "execution_count": null,
      "outputs": [],
      "id": "9ec59c28"
    }
  ],
  "metadata": {
    "kernelspec": {
      "name": "python3",
      "display_name": "Python 3.9",
      "language": "python"
    },
    "language_info": {
      "name": "python",
      "version": "3.9.13",
      "mimetype": "text/x-python",
      "codemirror_mode": {
        "name": "ipython",
        "version": 3
      },
      "pygments_lexer": "ipython3",
      "nbconvert_exporter": "python",
      "file_extension": ".py"
    },
    "colab": {
      "provenance": []
    }
  },
  "nbformat": 4,
  "nbformat_minor": 5
}